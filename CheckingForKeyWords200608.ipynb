{
 "cells": [
  {
   "cell_type": "code",
   "execution_count": 19,
   "metadata": {
    "collapsed": true
   },
   "outputs": [],
   "source": [
    "#Checking metadata for inclusion/exclusion criteria"
   ]
  },
  {
   "cell_type": "code",
   "execution_count": 20,
   "metadata": {
    "collapsed": true
   },
   "outputs": [],
   "source": [
    "import pandas as pd\n",
    "import re"
   ]
  },
  {
   "cell_type": "code",
   "execution_count": 21,
   "metadata": {
    "collapsed": true
   },
   "outputs": [],
   "source": [
    "#Search for publication typed to be excluded, print these in column called ExDocumentType"
   ]
  },
  {
   "cell_type": "code",
   "execution_count": 22,
   "metadata": {
    "collapsed": true
   },
   "outputs": [],
   "source": [
    "df = pd.read_csv('master03.csv', index_col=0)\n",
    "sub = ['proceedings', 'book', 'book chapter', 'case report', 'conference', 'clinical trial', 'review', 'correction', 'editorial', 'letter', 'meeting abstract', 'note']\n",
    "df[\"ExDocumentType\"]= df[\"DocumentType\"].str.findall('|'.join(sub), flags=re.IGNORECASE)\n",
    "df.to_csv(\"master04ExDoc.csv\")"
   ]
  },
  {
   "cell_type": "code",
   "execution_count": 23,
   "metadata": {
    "collapsed": true
   },
   "outputs": [],
   "source": [
    "#Check that \"Parkinson\" is included in the title and abstract. If it is, print \"Parkinson\" to new columns ParkTit and ParkAb"
   ]
  },
  {
   "cell_type": "code",
   "execution_count": 24,
   "metadata": {
    "collapsed": true
   },
   "outputs": [],
   "source": [
    "#check in title\n",
    "df = pd.read_csv('master04ExDoc.csv', index_col=0)\n",
    "sub = ['parkinson']\n",
    "df[\"ParkTit\"]= df[\"Title\"].str.findall('|'.join(sub), flags=re.IGNORECASE)\n",
    "df.to_csv(\"master04ParkTit.csv\")\n",
    "\n",
    "#check in abstract\n",
    "df = pd.read_csv('master04ParkTit.csv', index_col=0)\n",
    "sub = ['parkinson']\n",
    "df[\"ParkAb\"]= df[\"Abstract\"].str.findall('|'.join(sub), flags=re.IGNORECASE)\n",
    "df.to_csv(\"master04ParkAb.csv\")"
   ]
  },
  {
   "cell_type": "code",
   "execution_count": 27,
   "metadata": {
    "collapsed": true
   },
   "outputs": [],
   "source": [
    "#Check that the music key words are included in the title and abstract. If it is, print these key words to new columns IncMusic_Abs and IncMuisc_Title"
   ]
  },
  {
   "cell_type": "code",
   "execution_count": 28,
   "metadata": {
    "collapsed": true
   },
   "outputs": [],
   "source": [
    "#check Abstract\n",
    "df = pd.read_csv('master04IncSymTitle.csv', index_col=0)\n",
    "sub = ['tempo', 'music', 'sing', 'groove', 'choral', 'choir', 'ensemble', 'melody', 'harmony', 'Rhythm', 'texture', 'structure', 'form', 'expression', 'timbre', 'dynamic', 'register']\n",
    "df[\"IncMsuic_Abs\"]= df[\"Abstract\"].str.findall('|'.join(sub), flags=re.IGNORECASE)\n",
    "df.to_csv(\"master04IncMsuicAb.csv\")\n",
    "\n",
    "#check Title\n",
    "df = pd.read_csv('master04IncMsuicAb.csv', index_col=0)\n",
    "sub = ['tempo', 'music', 'sing', 'groove', 'choral', 'choir', 'ensemble', 'melody', 'harmony', 'Rhythm', 'texture', 'structure', 'form', 'expression', 'timbre', 'dynamic', 'register']\n",
    "df[\"IncMusic_Title\"]= df[\"Title\"].str.findall('|'.join(sub), flags=re.IGNORECASE)\n",
    "df.to_csv(\"master04IncMusicTitle.csv\")"
   ]
  },
  {
   "cell_type": "code",
   "execution_count": null,
   "metadata": {
    "collapsed": true
   },
   "outputs": [],
   "source": []
  },
  {
   "cell_type": "code",
   "execution_count": 25,
   "metadata": {
    "collapsed": true
   },
   "outputs": [],
   "source": []
  },
  {
   "cell_type": "code",
   "execution_count": 26,
   "metadata": {
    "collapsed": true
   },
   "outputs": [],
   "source": []
  },
  {
   "cell_type": "code",
   "execution_count": 39,
   "metadata": {
    "collapsed": true
   },
   "outputs": [],
   "source": []
  },
  {
   "cell_type": "code",
   "execution_count": null,
   "metadata": {
    "collapsed": true
   },
   "outputs": [],
   "source": []
  },
  {
   "cell_type": "code",
   "execution_count": null,
   "metadata": {
    "collapsed": true
   },
   "outputs": [],
   "source": []
  },
  {
   "cell_type": "code",
   "execution_count": 20,
   "metadata": {
    "collapsed": true
   },
   "outputs": [],
   "source": []
  },
  {
   "cell_type": "code",
   "execution_count": null,
   "metadata": {
    "collapsed": true
   },
   "outputs": [],
   "source": []
  },
  {
   "cell_type": "code",
   "execution_count": null,
   "metadata": {
    "collapsed": true
   },
   "outputs": [],
   "source": []
  }
 ],
 "metadata": {
  "anaconda-cloud": {},
  "kernelspec": {
   "display_name": "Python 3",
   "language": "python",
   "name": "python3"
  },
  "language_info": {
   "codemirror_mode": {
    "name": "ipython",
    "version": 3
   },
   "file_extension": ".py",
   "mimetype": "text/x-python",
   "name": "python",
   "nbconvert_exporter": "python",
   "pygments_lexer": "ipython3",
   "version": "3.7.6"
  }
 },
 "nbformat": 4,
 "nbformat_minor": 4
}
